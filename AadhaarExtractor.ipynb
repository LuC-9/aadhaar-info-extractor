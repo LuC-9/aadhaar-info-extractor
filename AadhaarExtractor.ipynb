{
 "cells": [
  {
   "cell_type": "code",
   "execution_count": 1,
   "metadata": {},
   "outputs": [],
   "source": [
    "import pytesseract\n",
    "import cv2\n",
    "import numpy as np\n",
    "import sys\n",
    "import requests\n",
    "import re\n",
    "import os\n",
    "import ftfy\n",
    "from PIL import Image\n",
    "import adhar_read\n",
    "import io\n",
    "import json"
   ]
  },
  {
   "cell_type": "code",
   "execution_count": 2,
   "metadata": {},
   "outputs": [],
   "source": [
    "img = cv2.imread(\"index.png\")\n",
    "img = cv2.resize(img, None, fx=2, fy=2, interpolation=cv2.INTER_CUBIC)\n",
    "img = cv2.cvtColor(img, cv2.COLOR_BGR2GRAY)\n",
    "var = cv2.Laplacian(img, cv2.CV_64F).var()\n",
    "if var < 50:\n",
    "    print(\"Image is Too Blurry....\")\n",
    "    k= input('Press Enter to Exit.')\n",
    "    exit(1)"
   ]
  },
  {
   "cell_type": "code",
   "execution_count": 3,
   "metadata": {},
   "outputs": [],
   "source": [
    "filename = \"index.png\"\n",
    "text = pytesseract.image_to_string(Image.open(filename), lang = 'eng')\n",
    "text_output = open('output.txt', 'w', encoding='utf-8')\n",
    "text_output.write(text)\n",
    "text_output.close()\n",
    "\n",
    "file = open('output.txt', 'r', encoding='utf-8')\n",
    "text = file.read()\n",
    "\n",
    "text = ftfy.fix_text(text)\n",
    "text = ftfy.fix_encoding(text)"
   ]
  },
  {
   "cell_type": "code",
   "execution_count": 4,
   "metadata": {},
   "outputs": [
    {
     "name": "stdout",
     "output_type": "stream",
     "text": [
      "Aadhar number is :9330 5347 5481 \n"
     ]
    }
   ],
   "source": [
    "data = adhar_read.adhaar_read_data(text)"
   ]
  },
  {
   "cell_type": "code",
   "execution_count": 5,
   "metadata": {},
   "outputs": [],
   "source": [
    "try:\n",
    "    to_unicode = unicode\n",
    "except NameError:\n",
    "    to_unicode = str\n",
    "with io.open('info.json', 'w', encoding='utf-8') as outfile:\n",
    "    data = json.dumps(data, indent=4, sort_keys=True, separators=(',', ': '), ensure_ascii=False)\n",
    "    outfile.write(to_unicode(data))"
   ]
  },
  {
   "cell_type": "code",
   "execution_count": 6,
   "metadata": {},
   "outputs": [],
   "source": [
    "with open('info.json', encoding = 'utf-8') as data:\n",
    "    data_loaded = json.load(data)"
   ]
  },
  {
   "cell_type": "code",
   "execution_count": null,
   "metadata": {
    "scrolled": true
   },
   "outputs": [
    {
     "name": "stdout",
     "output_type": "stream",
     "text": [
      "\n",
      "---------- ADHAAR Details ----------\n",
      "\n",
      "ADHAAR Number:  9330 5347 5481 \n",
      "\n",
      "Name:  Aarsh Mishra\n",
      "\n",
      "Date Of Birth:  29/09/1999\n",
      "\n",
      "Sex:  MALE\n",
      "\n",
      "------------------------------------\n"
     ]
    }
   ],
   "source": [
    "\n",
    "print(\"\\n---------- ADHAAR Details ----------\")\n",
    "print(\"\\nADHAAR Number: \",data_loaded['Adhaar Number'])\n",
    "print(\"\\nName: \",data_loaded['Name'])\n",
    "print(\"\\nDate Of Birth: \",data_loaded['Date of Birth'])\n",
    "print(\"\\nSex: \",data_loaded['Sex'])\n",
    "print(\"\\n------------------------------------\")\n",
    "k = input(\"\\n\\nPress Enter To EXIT\")\n",
    "exit(0)\n",
    "\n"
   ]
  },
  {
   "cell_type": "code",
   "execution_count": null,
   "metadata": {},
   "outputs": [],
   "source": []
  }
 ],
 "metadata": {
  "kernelspec": {
   "display_name": "Python 3",
   "language": "python",
   "name": "python3"
  },
  "language_info": {
   "codemirror_mode": {
    "name": "ipython",
    "version": 3
   },
   "file_extension": ".py",
   "mimetype": "text/x-python",
   "name": "python",
   "nbconvert_exporter": "python",
   "pygments_lexer": "ipython3",
   "version": "3.8.3"
  }
 },
 "nbformat": 4,
 "nbformat_minor": 4
}
